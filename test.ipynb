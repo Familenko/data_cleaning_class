{
 "cells": [
  {
   "cell_type": "code",
   "execution_count": 69,
   "id": "initial_id",
   "metadata": {
    "collapsed": true,
    "ExecuteTime": {
     "end_time": "2024-01-20T15:49:55.644502Z",
     "start_time": "2024-01-20T15:49:55.583430Z"
    }
   },
   "outputs": [],
   "source": [
    "import pandas as pd\n",
    "import numpy as np"
   ]
  },
  {
   "cell_type": "code",
   "execution_count": 70,
   "outputs": [],
   "source": [
    "df = pd.read_csv('Telco.csv')"
   ],
   "metadata": {
    "collapsed": false,
    "ExecuteTime": {
     "end_time": "2024-01-20T15:49:55.648359Z",
     "start_time": "2024-01-20T15:49:55.588098Z"
    }
   },
   "id": "41321c90a273577c"
  },
  {
   "cell_type": "code",
   "execution_count": 71,
   "outputs": [
    {
     "data": {
      "text/plain": "   customerID  gender  SeniorCitizen Partner Dependents  tenure PhoneService  \\\n0  7590-VHVEG  Female              0     Yes         No       1           No   \n1  5575-GNVDE    Male              0      No         No      34          Yes   \n2  3668-QPYBK    Male              0      No         No       2          Yes   \n3  7795-CFOCW    Male              0      No         No      45           No   \n4  9237-HQITU  Female              0      No         No       2          Yes   \n\n      MultipleLines InternetService OnlineSecurity  ... DeviceProtection  \\\n0  No phone service             DSL             No  ...               No   \n1                No             DSL            Yes  ...              Yes   \n2                No             DSL            Yes  ...               No   \n3  No phone service             DSL            Yes  ...              Yes   \n4                No     Fiber optic             No  ...               No   \n\n  TechSupport StreamingTV StreamingMovies        Contract PaperlessBilling  \\\n0          No          No              No  Month-to-month              Yes   \n1          No          No              No        One year               No   \n2          No          No              No  Month-to-month              Yes   \n3         Yes          No              No        One year               No   \n4          No          No              No  Month-to-month              Yes   \n\n               PaymentMethod MonthlyCharges  TotalCharges  Churn  \n0           Electronic check          29.85         29.85     No  \n1               Mailed check          56.95       1889.50     No  \n2               Mailed check          53.85        108.15    Yes  \n3  Bank transfer (automatic)          42.30       1840.75     No  \n4           Electronic check          70.70        151.65    Yes  \n\n[5 rows x 21 columns]",
      "text/html": "<div>\n<style scoped>\n    .dataframe tbody tr th:only-of-type {\n        vertical-align: middle;\n    }\n\n    .dataframe tbody tr th {\n        vertical-align: top;\n    }\n\n    .dataframe thead th {\n        text-align: right;\n    }\n</style>\n<table border=\"1\" class=\"dataframe\">\n  <thead>\n    <tr style=\"text-align: right;\">\n      <th></th>\n      <th>customerID</th>\n      <th>gender</th>\n      <th>SeniorCitizen</th>\n      <th>Partner</th>\n      <th>Dependents</th>\n      <th>tenure</th>\n      <th>PhoneService</th>\n      <th>MultipleLines</th>\n      <th>InternetService</th>\n      <th>OnlineSecurity</th>\n      <th>...</th>\n      <th>DeviceProtection</th>\n      <th>TechSupport</th>\n      <th>StreamingTV</th>\n      <th>StreamingMovies</th>\n      <th>Contract</th>\n      <th>PaperlessBilling</th>\n      <th>PaymentMethod</th>\n      <th>MonthlyCharges</th>\n      <th>TotalCharges</th>\n      <th>Churn</th>\n    </tr>\n  </thead>\n  <tbody>\n    <tr>\n      <th>0</th>\n      <td>7590-VHVEG</td>\n      <td>Female</td>\n      <td>0</td>\n      <td>Yes</td>\n      <td>No</td>\n      <td>1</td>\n      <td>No</td>\n      <td>No phone service</td>\n      <td>DSL</td>\n      <td>No</td>\n      <td>...</td>\n      <td>No</td>\n      <td>No</td>\n      <td>No</td>\n      <td>No</td>\n      <td>Month-to-month</td>\n      <td>Yes</td>\n      <td>Electronic check</td>\n      <td>29.85</td>\n      <td>29.85</td>\n      <td>No</td>\n    </tr>\n    <tr>\n      <th>1</th>\n      <td>5575-GNVDE</td>\n      <td>Male</td>\n      <td>0</td>\n      <td>No</td>\n      <td>No</td>\n      <td>34</td>\n      <td>Yes</td>\n      <td>No</td>\n      <td>DSL</td>\n      <td>Yes</td>\n      <td>...</td>\n      <td>Yes</td>\n      <td>No</td>\n      <td>No</td>\n      <td>No</td>\n      <td>One year</td>\n      <td>No</td>\n      <td>Mailed check</td>\n      <td>56.95</td>\n      <td>1889.50</td>\n      <td>No</td>\n    </tr>\n    <tr>\n      <th>2</th>\n      <td>3668-QPYBK</td>\n      <td>Male</td>\n      <td>0</td>\n      <td>No</td>\n      <td>No</td>\n      <td>2</td>\n      <td>Yes</td>\n      <td>No</td>\n      <td>DSL</td>\n      <td>Yes</td>\n      <td>...</td>\n      <td>No</td>\n      <td>No</td>\n      <td>No</td>\n      <td>No</td>\n      <td>Month-to-month</td>\n      <td>Yes</td>\n      <td>Mailed check</td>\n      <td>53.85</td>\n      <td>108.15</td>\n      <td>Yes</td>\n    </tr>\n    <tr>\n      <th>3</th>\n      <td>7795-CFOCW</td>\n      <td>Male</td>\n      <td>0</td>\n      <td>No</td>\n      <td>No</td>\n      <td>45</td>\n      <td>No</td>\n      <td>No phone service</td>\n      <td>DSL</td>\n      <td>Yes</td>\n      <td>...</td>\n      <td>Yes</td>\n      <td>Yes</td>\n      <td>No</td>\n      <td>No</td>\n      <td>One year</td>\n      <td>No</td>\n      <td>Bank transfer (automatic)</td>\n      <td>42.30</td>\n      <td>1840.75</td>\n      <td>No</td>\n    </tr>\n    <tr>\n      <th>4</th>\n      <td>9237-HQITU</td>\n      <td>Female</td>\n      <td>0</td>\n      <td>No</td>\n      <td>No</td>\n      <td>2</td>\n      <td>Yes</td>\n      <td>No</td>\n      <td>Fiber optic</td>\n      <td>No</td>\n      <td>...</td>\n      <td>No</td>\n      <td>No</td>\n      <td>No</td>\n      <td>No</td>\n      <td>Month-to-month</td>\n      <td>Yes</td>\n      <td>Electronic check</td>\n      <td>70.70</td>\n      <td>151.65</td>\n      <td>Yes</td>\n    </tr>\n  </tbody>\n</table>\n<p>5 rows × 21 columns</p>\n</div>"
     },
     "execution_count": 71,
     "metadata": {},
     "output_type": "execute_result"
    }
   ],
   "source": [
    "df.head()"
   ],
   "metadata": {
    "collapsed": false,
    "ExecuteTime": {
     "end_time": "2024-01-20T15:49:55.656361Z",
     "start_time": "2024-01-20T15:49:55.643685Z"
    }
   },
   "id": "c48c64f5caa478ba"
  },
  {
   "cell_type": "code",
   "execution_count": 72,
   "outputs": [],
   "source": [
    "def detect_outliers_in_column(column, threshold=1.5):\n",
    "    q1 = column.quantile(0.25)\n",
    "    q3 = column.quantile(0.75)\n",
    "    iqr = q3 - q1\n",
    "    lower_bound = q1 - threshold * iqr\n",
    "    upper_bound = q3 + threshold * iqr\n",
    "    \n",
    "    outlier_indices = column[(column < lower_bound) | (column > upper_bound)].index.tolist()\n",
    "    \n",
    "    return outlier_indices"
   ],
   "metadata": {
    "collapsed": false,
    "ExecuteTime": {
     "end_time": "2024-01-20T15:49:55.657669Z",
     "start_time": "2024-01-20T15:49:55.648674Z"
    }
   },
   "id": "60bab06b7a6a0aae"
  },
  {
   "cell_type": "code",
   "execution_count": 73,
   "outputs": [
    {
     "data": {
      "text/plain": "[2110, 2363, 3200, 3294, 3887, 4148, 4578, 4602, 4796, 4867, 5119, 6109, 6757]"
     },
     "execution_count": 73,
     "metadata": {},
     "output_type": "execute_result"
    }
   ],
   "source": [
    "detect_outliers_in_column(df['MonthlyCharges'], threshold=0.5)"
   ],
   "metadata": {
    "collapsed": false,
    "ExecuteTime": {
     "end_time": "2024-01-20T15:49:55.658486Z",
     "start_time": "2024-01-20T15:49:55.654418Z"
    }
   },
   "id": "84dd919ea5b77ff5"
  },
  {
   "cell_type": "code",
   "execution_count": 74,
   "outputs": [
    {
     "data": {
      "text/plain": "customerID           object\ngender               object\nSeniorCitizen         int64\nPartner              object\nDependents           object\ntenure                int64\nPhoneService         object\nMultipleLines        object\nInternetService      object\nOnlineSecurity       object\nOnlineBackup         object\nDeviceProtection     object\nTechSupport          object\nStreamingTV          object\nStreamingMovies      object\nContract             object\nPaperlessBilling     object\nPaymentMethod        object\nMonthlyCharges      float64\nTotalCharges        float64\nChurn                object\ndtype: object"
     },
     "execution_count": 74,
     "metadata": {},
     "output_type": "execute_result"
    }
   ],
   "source": [
    "df.dtypes"
   ],
   "metadata": {
    "collapsed": false,
    "ExecuteTime": {
     "end_time": "2024-01-20T15:49:55.663431Z",
     "start_time": "2024-01-20T15:49:55.659766Z"
    }
   },
   "id": "da53b47346a7ca33"
  },
  {
   "cell_type": "code",
   "execution_count": 75,
   "outputs": [
    {
     "data": {
      "text/plain": "Index(['SeniorCitizen', 'tenure', 'MonthlyCharges', 'TotalCharges'], dtype='object')"
     },
     "execution_count": 75,
     "metadata": {},
     "output_type": "execute_result"
    }
   ],
   "source": [
    "df.select_dtypes(include=np.number).columns"
   ],
   "metadata": {
    "collapsed": false,
    "ExecuteTime": {
     "end_time": "2024-01-20T15:49:55.701950Z",
     "start_time": "2024-01-20T15:49:55.664901Z"
    }
   },
   "id": "631eed26621a6a85"
  },
  {
   "cell_type": "code",
   "execution_count": 76,
   "outputs": [],
   "source": [
    "def outliers_labeling(df, threshold=1.5):\n",
    "    df_working = df[df.select_dtypes(include=np.number).columns]\n",
    "    for col in df_working.columns:\n",
    "        if set(df_working[col].unique()) == {0, 1}:\n",
    "            continue\n",
    "        outlier_indices = detect_outliers_in_column(df_working[col], threshold)\n",
    "        df_working.loc[outlier_indices, col] = np.nan\n",
    "        \n",
    "    return df_working"
   ],
   "metadata": {
    "collapsed": false,
    "ExecuteTime": {
     "end_time": "2024-01-20T15:49:55.702710Z",
     "start_time": "2024-01-20T15:49:55.669075Z"
    }
   },
   "id": "519c2a7f9f11f996"
  },
  {
   "cell_type": "code",
   "execution_count": 77,
   "outputs": [
    {
     "data": {
      "text/plain": "      SeniorCitizen  tenure  MonthlyCharges  TotalCharges\n0                 0     1.0           29.85         29.85\n1                 0    34.0           56.95       1889.50\n2                 0     2.0           53.85        108.15\n3                 0    45.0           42.30       1840.75\n4                 0     2.0           70.70        151.65\n...             ...     ...             ...           ...\n7027              0    24.0           84.80       1990.50\n7028              0     NaN          103.20           NaN\n7029              0    11.0           29.60        346.45\n7030              1     4.0           74.40        306.60\n7031              0    66.0          105.65           NaN\n\n[7032 rows x 4 columns]",
      "text/html": "<div>\n<style scoped>\n    .dataframe tbody tr th:only-of-type {\n        vertical-align: middle;\n    }\n\n    .dataframe tbody tr th {\n        vertical-align: top;\n    }\n\n    .dataframe thead th {\n        text-align: right;\n    }\n</style>\n<table border=\"1\" class=\"dataframe\">\n  <thead>\n    <tr style=\"text-align: right;\">\n      <th></th>\n      <th>SeniorCitizen</th>\n      <th>tenure</th>\n      <th>MonthlyCharges</th>\n      <th>TotalCharges</th>\n    </tr>\n  </thead>\n  <tbody>\n    <tr>\n      <th>0</th>\n      <td>0</td>\n      <td>1.0</td>\n      <td>29.85</td>\n      <td>29.85</td>\n    </tr>\n    <tr>\n      <th>1</th>\n      <td>0</td>\n      <td>34.0</td>\n      <td>56.95</td>\n      <td>1889.50</td>\n    </tr>\n    <tr>\n      <th>2</th>\n      <td>0</td>\n      <td>2.0</td>\n      <td>53.85</td>\n      <td>108.15</td>\n    </tr>\n    <tr>\n      <th>3</th>\n      <td>0</td>\n      <td>45.0</td>\n      <td>42.30</td>\n      <td>1840.75</td>\n    </tr>\n    <tr>\n      <th>4</th>\n      <td>0</td>\n      <td>2.0</td>\n      <td>70.70</td>\n      <td>151.65</td>\n    </tr>\n    <tr>\n      <th>...</th>\n      <td>...</td>\n      <td>...</td>\n      <td>...</td>\n      <td>...</td>\n    </tr>\n    <tr>\n      <th>7027</th>\n      <td>0</td>\n      <td>24.0</td>\n      <td>84.80</td>\n      <td>1990.50</td>\n    </tr>\n    <tr>\n      <th>7028</th>\n      <td>0</td>\n      <td>NaN</td>\n      <td>103.20</td>\n      <td>NaN</td>\n    </tr>\n    <tr>\n      <th>7029</th>\n      <td>0</td>\n      <td>11.0</td>\n      <td>29.60</td>\n      <td>346.45</td>\n    </tr>\n    <tr>\n      <th>7030</th>\n      <td>1</td>\n      <td>4.0</td>\n      <td>74.40</td>\n      <td>306.60</td>\n    </tr>\n    <tr>\n      <th>7031</th>\n      <td>0</td>\n      <td>66.0</td>\n      <td>105.65</td>\n      <td>NaN</td>\n    </tr>\n  </tbody>\n</table>\n<p>7032 rows × 4 columns</p>\n</div>"
     },
     "execution_count": 77,
     "metadata": {},
     "output_type": "execute_result"
    }
   ],
   "source": [
    "outliers_labeling(df, threshold=0.3)"
   ],
   "metadata": {
    "collapsed": false,
    "ExecuteTime": {
     "end_time": "2024-01-20T15:49:55.750974Z",
     "start_time": "2024-01-20T15:49:55.675309Z"
    }
   },
   "id": "59d6c1cd5263bd1c"
  },
  {
   "cell_type": "code",
   "execution_count": 78,
   "outputs": [],
   "source": [
    "def count_outliers_in_row(df, threshold=1.5):\n",
    "    df_working = df[df.select_dtypes(include=np.number).columns]\n",
    "    df_working = outliers_labeling(df_working, threshold)\n",
    "    df_working['outliers_count'] = df_working.isnull().sum(axis=1)\n",
    "    \n",
    "    return df_working['outliers_count']"
   ],
   "metadata": {
    "collapsed": false,
    "ExecuteTime": {
     "end_time": "2024-01-20T15:49:55.751390Z",
     "start_time": "2024-01-20T15:49:55.688692Z"
    }
   },
   "id": "41d5da160370eae9"
  },
  {
   "cell_type": "code",
   "execution_count": 79,
   "outputs": [],
   "source": [
    "df['outliers_count'] = count_outliers_in_row(df, threshold=0.3)"
   ],
   "metadata": {
    "collapsed": false,
    "ExecuteTime": {
     "end_time": "2024-01-20T15:49:55.751588Z",
     "start_time": "2024-01-20T15:49:55.693096Z"
    }
   },
   "id": "6aba126ccb180279"
  },
  {
   "cell_type": "code",
   "execution_count": 80,
   "outputs": [
    {
     "data": {
      "text/plain": "outliers_count\n0    5372\n1     961\n2     534\n3     165\nName: count, dtype: int64"
     },
     "execution_count": 80,
     "metadata": {},
     "output_type": "execute_result"
    }
   ],
   "source": [
    "df['outliers_count'].value_counts()"
   ],
   "metadata": {
    "collapsed": false,
    "ExecuteTime": {
     "end_time": "2024-01-20T15:50:01.691917Z",
     "start_time": "2024-01-20T15:50:01.684479Z"
    }
   },
   "id": "2bfcbaad0a358479"
  },
  {
   "cell_type": "code",
   "execution_count": 83,
   "outputs": [
    {
     "data": {
      "text/plain": "      customerID  gender  SeniorCitizen Partner Dependents  tenure  \\\n15    3655-SNQYZ  Female              0     Yes        Yes      69   \n17    9959-WOFKT    Male              0      No        Yes      71   \n59    5954-BDFSG  Female              0      No         No      72   \n152   1679-JRFBR  Female              0     Yes        Yes      70   \n193   9680-NIAUV  Female              0     Yes        Yes      72   \n...          ...     ...            ...     ...        ...     ...   \n6782  1320-GVNHT    Male              0     Yes        Yes      72   \n6788  8071-SBTRN  Female              0      No         No      70   \n6848  3508-CFVZL  Female              0      No         No      71   \n6899  0530-IJVDB    Male              0      No        Yes      70   \n6902  8213-TAZPM  Female              0     Yes        Yes      69   \n\n     PhoneService MultipleLines InternetService OnlineSecurity  ...  \\\n15            Yes           Yes     Fiber optic            Yes  ...   \n17            Yes           Yes     Fiber optic            Yes  ...   \n59            Yes           Yes     Fiber optic             No  ...   \n152           Yes           Yes     Fiber optic            Yes  ...   \n193           Yes           Yes     Fiber optic            Yes  ...   \n...           ...           ...             ...            ...  ...   \n6782          Yes           Yes     Fiber optic            Yes  ...   \n6788          Yes           Yes     Fiber optic            Yes  ...   \n6848          Yes           Yes     Fiber optic            Yes  ...   \n6899          Yes           Yes     Fiber optic            Yes  ...   \n6902          Yes           Yes     Fiber optic             No  ...   \n\n     TechSupport StreamingTV StreamingMovies  Contract PaperlessBilling  \\\n15           Yes         Yes             Yes  Two year               No   \n17            No         Yes             Yes  Two year               No   \n59           Yes         Yes             Yes  Two year              Yes   \n152           No         Yes             Yes  One year              Yes   \n193           No         Yes             Yes  Two year               No   \n...          ...         ...             ...       ...              ...   \n6782          No         Yes             Yes  Two year              Yes   \n6788          No         Yes             Yes  Two year              Yes   \n6848         Yes         Yes             Yes  Two year               No   \n6899         Yes         Yes             Yes  Two year              Yes   \n6902         Yes         Yes             Yes  One year              Yes   \n\n                  PaymentMethod MonthlyCharges TotalCharges  Churn  \\\n15      Credit card (automatic)         113.25      7895.15     No   \n17    Bank transfer (automatic)         106.70      7382.25     No   \n59      Credit card (automatic)         107.50      7853.70     No   \n152     Credit card (automatic)         108.15      7930.55     No   \n193     Credit card (automatic)         109.70      8129.30     No   \n...                         ...            ...          ...    ...   \n6782    Credit card (automatic)         108.40      7767.25     No   \n6788               Mailed check         111.15      7737.55     No   \n6848               Mailed check         111.30      7985.90     No   \n6899           Electronic check         114.60      7882.50     No   \n6902  Bank transfer (automatic)         108.75      7493.05     No   \n\n      outliers_count  \n15                 3  \n17                 3  \n59                 3  \n152                3  \n193                3  \n...              ...  \n6782               3  \n6788               3  \n6848               3  \n6899               3  \n6902               3  \n\n[165 rows x 22 columns]",
      "text/html": "<div>\n<style scoped>\n    .dataframe tbody tr th:only-of-type {\n        vertical-align: middle;\n    }\n\n    .dataframe tbody tr th {\n        vertical-align: top;\n    }\n\n    .dataframe thead th {\n        text-align: right;\n    }\n</style>\n<table border=\"1\" class=\"dataframe\">\n  <thead>\n    <tr style=\"text-align: right;\">\n      <th></th>\n      <th>customerID</th>\n      <th>gender</th>\n      <th>SeniorCitizen</th>\n      <th>Partner</th>\n      <th>Dependents</th>\n      <th>tenure</th>\n      <th>PhoneService</th>\n      <th>MultipleLines</th>\n      <th>InternetService</th>\n      <th>OnlineSecurity</th>\n      <th>...</th>\n      <th>TechSupport</th>\n      <th>StreamingTV</th>\n      <th>StreamingMovies</th>\n      <th>Contract</th>\n      <th>PaperlessBilling</th>\n      <th>PaymentMethod</th>\n      <th>MonthlyCharges</th>\n      <th>TotalCharges</th>\n      <th>Churn</th>\n      <th>outliers_count</th>\n    </tr>\n  </thead>\n  <tbody>\n    <tr>\n      <th>15</th>\n      <td>3655-SNQYZ</td>\n      <td>Female</td>\n      <td>0</td>\n      <td>Yes</td>\n      <td>Yes</td>\n      <td>69</td>\n      <td>Yes</td>\n      <td>Yes</td>\n      <td>Fiber optic</td>\n      <td>Yes</td>\n      <td>...</td>\n      <td>Yes</td>\n      <td>Yes</td>\n      <td>Yes</td>\n      <td>Two year</td>\n      <td>No</td>\n      <td>Credit card (automatic)</td>\n      <td>113.25</td>\n      <td>7895.15</td>\n      <td>No</td>\n      <td>3</td>\n    </tr>\n    <tr>\n      <th>17</th>\n      <td>9959-WOFKT</td>\n      <td>Male</td>\n      <td>0</td>\n      <td>No</td>\n      <td>Yes</td>\n      <td>71</td>\n      <td>Yes</td>\n      <td>Yes</td>\n      <td>Fiber optic</td>\n      <td>Yes</td>\n      <td>...</td>\n      <td>No</td>\n      <td>Yes</td>\n      <td>Yes</td>\n      <td>Two year</td>\n      <td>No</td>\n      <td>Bank transfer (automatic)</td>\n      <td>106.70</td>\n      <td>7382.25</td>\n      <td>No</td>\n      <td>3</td>\n    </tr>\n    <tr>\n      <th>59</th>\n      <td>5954-BDFSG</td>\n      <td>Female</td>\n      <td>0</td>\n      <td>No</td>\n      <td>No</td>\n      <td>72</td>\n      <td>Yes</td>\n      <td>Yes</td>\n      <td>Fiber optic</td>\n      <td>No</td>\n      <td>...</td>\n      <td>Yes</td>\n      <td>Yes</td>\n      <td>Yes</td>\n      <td>Two year</td>\n      <td>Yes</td>\n      <td>Credit card (automatic)</td>\n      <td>107.50</td>\n      <td>7853.70</td>\n      <td>No</td>\n      <td>3</td>\n    </tr>\n    <tr>\n      <th>152</th>\n      <td>1679-JRFBR</td>\n      <td>Female</td>\n      <td>0</td>\n      <td>Yes</td>\n      <td>Yes</td>\n      <td>70</td>\n      <td>Yes</td>\n      <td>Yes</td>\n      <td>Fiber optic</td>\n      <td>Yes</td>\n      <td>...</td>\n      <td>No</td>\n      <td>Yes</td>\n      <td>Yes</td>\n      <td>One year</td>\n      <td>Yes</td>\n      <td>Credit card (automatic)</td>\n      <td>108.15</td>\n      <td>7930.55</td>\n      <td>No</td>\n      <td>3</td>\n    </tr>\n    <tr>\n      <th>193</th>\n      <td>9680-NIAUV</td>\n      <td>Female</td>\n      <td>0</td>\n      <td>Yes</td>\n      <td>Yes</td>\n      <td>72</td>\n      <td>Yes</td>\n      <td>Yes</td>\n      <td>Fiber optic</td>\n      <td>Yes</td>\n      <td>...</td>\n      <td>No</td>\n      <td>Yes</td>\n      <td>Yes</td>\n      <td>Two year</td>\n      <td>No</td>\n      <td>Credit card (automatic)</td>\n      <td>109.70</td>\n      <td>8129.30</td>\n      <td>No</td>\n      <td>3</td>\n    </tr>\n    <tr>\n      <th>...</th>\n      <td>...</td>\n      <td>...</td>\n      <td>...</td>\n      <td>...</td>\n      <td>...</td>\n      <td>...</td>\n      <td>...</td>\n      <td>...</td>\n      <td>...</td>\n      <td>...</td>\n      <td>...</td>\n      <td>...</td>\n      <td>...</td>\n      <td>...</td>\n      <td>...</td>\n      <td>...</td>\n      <td>...</td>\n      <td>...</td>\n      <td>...</td>\n      <td>...</td>\n      <td>...</td>\n    </tr>\n    <tr>\n      <th>6782</th>\n      <td>1320-GVNHT</td>\n      <td>Male</td>\n      <td>0</td>\n      <td>Yes</td>\n      <td>Yes</td>\n      <td>72</td>\n      <td>Yes</td>\n      <td>Yes</td>\n      <td>Fiber optic</td>\n      <td>Yes</td>\n      <td>...</td>\n      <td>No</td>\n      <td>Yes</td>\n      <td>Yes</td>\n      <td>Two year</td>\n      <td>Yes</td>\n      <td>Credit card (automatic)</td>\n      <td>108.40</td>\n      <td>7767.25</td>\n      <td>No</td>\n      <td>3</td>\n    </tr>\n    <tr>\n      <th>6788</th>\n      <td>8071-SBTRN</td>\n      <td>Female</td>\n      <td>0</td>\n      <td>No</td>\n      <td>No</td>\n      <td>70</td>\n      <td>Yes</td>\n      <td>Yes</td>\n      <td>Fiber optic</td>\n      <td>Yes</td>\n      <td>...</td>\n      <td>No</td>\n      <td>Yes</td>\n      <td>Yes</td>\n      <td>Two year</td>\n      <td>Yes</td>\n      <td>Mailed check</td>\n      <td>111.15</td>\n      <td>7737.55</td>\n      <td>No</td>\n      <td>3</td>\n    </tr>\n    <tr>\n      <th>6848</th>\n      <td>3508-CFVZL</td>\n      <td>Female</td>\n      <td>0</td>\n      <td>No</td>\n      <td>No</td>\n      <td>71</td>\n      <td>Yes</td>\n      <td>Yes</td>\n      <td>Fiber optic</td>\n      <td>Yes</td>\n      <td>...</td>\n      <td>Yes</td>\n      <td>Yes</td>\n      <td>Yes</td>\n      <td>Two year</td>\n      <td>No</td>\n      <td>Mailed check</td>\n      <td>111.30</td>\n      <td>7985.90</td>\n      <td>No</td>\n      <td>3</td>\n    </tr>\n    <tr>\n      <th>6899</th>\n      <td>0530-IJVDB</td>\n      <td>Male</td>\n      <td>0</td>\n      <td>No</td>\n      <td>Yes</td>\n      <td>70</td>\n      <td>Yes</td>\n      <td>Yes</td>\n      <td>Fiber optic</td>\n      <td>Yes</td>\n      <td>...</td>\n      <td>Yes</td>\n      <td>Yes</td>\n      <td>Yes</td>\n      <td>Two year</td>\n      <td>Yes</td>\n      <td>Electronic check</td>\n      <td>114.60</td>\n      <td>7882.50</td>\n      <td>No</td>\n      <td>3</td>\n    </tr>\n    <tr>\n      <th>6902</th>\n      <td>8213-TAZPM</td>\n      <td>Female</td>\n      <td>0</td>\n      <td>Yes</td>\n      <td>Yes</td>\n      <td>69</td>\n      <td>Yes</td>\n      <td>Yes</td>\n      <td>Fiber optic</td>\n      <td>No</td>\n      <td>...</td>\n      <td>Yes</td>\n      <td>Yes</td>\n      <td>Yes</td>\n      <td>One year</td>\n      <td>Yes</td>\n      <td>Bank transfer (automatic)</td>\n      <td>108.75</td>\n      <td>7493.05</td>\n      <td>No</td>\n      <td>3</td>\n    </tr>\n  </tbody>\n</table>\n<p>165 rows × 22 columns</p>\n</div>"
     },
     "execution_count": 83,
     "metadata": {},
     "output_type": "execute_result"
    }
   ],
   "source": [
    "df[df['outliers_count'] == 3]"
   ],
   "metadata": {
    "collapsed": false,
    "ExecuteTime": {
     "end_time": "2024-01-20T15:50:54.474146Z",
     "start_time": "2024-01-20T15:50:54.449643Z"
    }
   },
   "id": "f4773971756b66ff"
  },
  {
   "cell_type": "code",
   "execution_count": null,
   "outputs": [],
   "source": [],
   "metadata": {
    "collapsed": false
   },
   "id": "d0cfdcbdaeb63e2b"
  }
 ],
 "metadata": {
  "kernelspec": {
   "display_name": "Python 3",
   "language": "python",
   "name": "python3"
  },
  "language_info": {
   "codemirror_mode": {
    "name": "ipython",
    "version": 2
   },
   "file_extension": ".py",
   "mimetype": "text/x-python",
   "name": "python",
   "nbconvert_exporter": "python",
   "pygments_lexer": "ipython2",
   "version": "2.7.6"
  }
 },
 "nbformat": 4,
 "nbformat_minor": 5
}
